{
 "cells": [
  {
   "cell_type": "markdown",
   "metadata": {},
   "source": [
    "### preprocessing\n"
   ]
  },
  {
   "cell_type": "code",
   "execution_count": 1,
   "metadata": {},
   "outputs": [],
   "source": [
    "import numpy as np\n",
    "import matplotlib.pyplot as plt\n",
    "import pandas as pd\n",
    "%matplotlib inline "
   ]
  },
  {
   "cell_type": "code",
   "execution_count": 2,
   "metadata": {},
   "outputs": [],
   "source": [
    "# importing the datasets\n",
    "training_set = pd.read_csv('Google_Stock_Price_Train.csv')"
   ]
  },
  {
   "cell_type": "code",
   "execution_count": 4,
   "metadata": {},
   "outputs": [
    {
     "data": {
      "text/html": [
       "<div>\n",
       "<style>\n",
       "    .dataframe thead tr:only-child th {\n",
       "        text-align: right;\n",
       "    }\n",
       "\n",
       "    .dataframe thead th {\n",
       "        text-align: left;\n",
       "    }\n",
       "\n",
       "    .dataframe tbody tr th {\n",
       "        vertical-align: top;\n",
       "    }\n",
       "</style>\n",
       "<table border=\"1\" class=\"dataframe\">\n",
       "  <thead>\n",
       "    <tr style=\"text-align: right;\">\n",
       "      <th></th>\n",
       "      <th>Date</th>\n",
       "      <th>Open</th>\n",
       "      <th>High</th>\n",
       "      <th>Low</th>\n",
       "      <th>Close</th>\n",
       "      <th>Volume</th>\n",
       "    </tr>\n",
       "  </thead>\n",
       "  <tbody>\n",
       "    <tr>\n",
       "      <th>1253</th>\n",
       "      <td>12/23/2016</td>\n",
       "      <td>790.90</td>\n",
       "      <td>792.74</td>\n",
       "      <td>787.28</td>\n",
       "      <td>789.91</td>\n",
       "      <td>623,400</td>\n",
       "    </tr>\n",
       "    <tr>\n",
       "      <th>1254</th>\n",
       "      <td>12/27/2016</td>\n",
       "      <td>790.68</td>\n",
       "      <td>797.86</td>\n",
       "      <td>787.66</td>\n",
       "      <td>791.55</td>\n",
       "      <td>789,100</td>\n",
       "    </tr>\n",
       "    <tr>\n",
       "      <th>1255</th>\n",
       "      <td>12/28/2016</td>\n",
       "      <td>793.70</td>\n",
       "      <td>794.23</td>\n",
       "      <td>783.20</td>\n",
       "      <td>785.05</td>\n",
       "      <td>1,153,800</td>\n",
       "    </tr>\n",
       "    <tr>\n",
       "      <th>1256</th>\n",
       "      <td>12/29/2016</td>\n",
       "      <td>783.33</td>\n",
       "      <td>785.93</td>\n",
       "      <td>778.92</td>\n",
       "      <td>782.79</td>\n",
       "      <td>744,300</td>\n",
       "    </tr>\n",
       "    <tr>\n",
       "      <th>1257</th>\n",
       "      <td>12/30/2016</td>\n",
       "      <td>782.75</td>\n",
       "      <td>782.78</td>\n",
       "      <td>770.41</td>\n",
       "      <td>771.82</td>\n",
       "      <td>1,770,000</td>\n",
       "    </tr>\n",
       "  </tbody>\n",
       "</table>\n",
       "</div>"
      ],
      "text/plain": [
       "            Date    Open    High     Low   Close     Volume\n",
       "1253  12/23/2016  790.90  792.74  787.28  789.91    623,400\n",
       "1254  12/27/2016  790.68  797.86  787.66  791.55    789,100\n",
       "1255  12/28/2016  793.70  794.23  783.20  785.05  1,153,800\n",
       "1256  12/29/2016  783.33  785.93  778.92  782.79    744,300\n",
       "1257  12/30/2016  782.75  782.78  770.41  771.82  1,770,000"
      ]
     },
     "execution_count": 4,
     "metadata": {},
     "output_type": "execute_result"
    }
   ],
   "source": [
    "training_set.tail()"
   ]
  },
  {
   "cell_type": "code",
   "execution_count": 5,
   "metadata": {},
   "outputs": [],
   "source": [
    "training_set = training_set.iloc[:,1:2].values"
   ]
  },
  {
   "cell_type": "code",
   "execution_count": 6,
   "metadata": {},
   "outputs": [
    {
     "data": {
      "text/plain": [
       "array([[ 325.25],\n",
       "       [ 331.27],\n",
       "       [ 329.83],\n",
       "       ..., \n",
       "       [ 793.7 ],\n",
       "       [ 783.33],\n",
       "       [ 782.75]])"
      ]
     },
     "execution_count": 6,
     "metadata": {},
     "output_type": "execute_result"
    }
   ],
   "source": [
    "training_set"
   ]
  },
  {
   "cell_type": "code",
   "execution_count": 8,
   "metadata": {},
   "outputs": [],
   "source": [
    "# feature scaling\n",
    "#normalization\n",
    "from sklearn.preprocessing import MinMaxScaler\n",
    "sc = MinMaxScaler()"
   ]
  },
  {
   "cell_type": "code",
   "execution_count": 9,
   "metadata": {},
   "outputs": [],
   "source": [
    "training_set = sc.fit_transform(training_set)"
   ]
  },
  {
   "cell_type": "code",
   "execution_count": 11,
   "metadata": {},
   "outputs": [
    {
     "data": {
      "text/plain": [
       "array([[ 0.08581368],\n",
       "       [ 0.09701243],\n",
       "       [ 0.09433366],\n",
       "       ..., \n",
       "       [ 0.95725128],\n",
       "       [ 0.93796041],\n",
       "       [ 0.93688146]])"
      ]
     },
     "execution_count": 11,
     "metadata": {},
     "output_type": "execute_result"
    }
   ],
   "source": [
    "training_set"
   ]
  },
  {
   "cell_type": "code",
   "execution_count": 12,
   "metadata": {},
   "outputs": [],
   "source": [
    "# gettings imputs and outputs\n",
    "x_train = training_set[0:1257]\n",
    "y_train = training_set[1:1258]"
   ]
  },
  {
   "cell_type": "code",
   "execution_count": 16,
   "metadata": {},
   "outputs": [
    {
     "data": {
      "text/html": [
       "<div>\n",
       "<style>\n",
       "    .dataframe thead tr:only-child th {\n",
       "        text-align: right;\n",
       "    }\n",
       "\n",
       "    .dataframe thead th {\n",
       "        text-align: left;\n",
       "    }\n",
       "\n",
       "    .dataframe tbody tr th {\n",
       "        vertical-align: top;\n",
       "    }\n",
       "</style>\n",
       "<table border=\"1\" class=\"dataframe\">\n",
       "  <thead>\n",
       "    <tr style=\"text-align: right;\">\n",
       "      <th></th>\n",
       "      <th>0</th>\n",
       "    </tr>\n",
       "  </thead>\n",
       "  <tbody>\n",
       "    <tr>\n",
       "      <th>0</th>\n",
       "      <td>0.085814</td>\n",
       "    </tr>\n",
       "    <tr>\n",
       "      <th>1</th>\n",
       "      <td>0.097012</td>\n",
       "    </tr>\n",
       "    <tr>\n",
       "      <th>2</th>\n",
       "      <td>0.094334</td>\n",
       "    </tr>\n",
       "    <tr>\n",
       "      <th>3</th>\n",
       "      <td>0.091562</td>\n",
       "    </tr>\n",
       "    <tr>\n",
       "      <th>4</th>\n",
       "      <td>0.079842</td>\n",
       "    </tr>\n",
       "  </tbody>\n",
       "</table>\n",
       "</div>"
      ],
      "text/plain": [
       "          0\n",
       "0  0.085814\n",
       "1  0.097012\n",
       "2  0.094334\n",
       "3  0.091562\n",
       "4  0.079842"
      ]
     },
     "execution_count": 16,
     "metadata": {},
     "output_type": "execute_result"
    }
   ],
   "source": [
    "pd.DataFrame(x_train).head()"
   ]
  },
  {
   "cell_type": "code",
   "execution_count": 17,
   "metadata": {},
   "outputs": [
    {
     "data": {
      "text/html": [
       "<div>\n",
       "<style>\n",
       "    .dataframe thead tr:only-child th {\n",
       "        text-align: right;\n",
       "    }\n",
       "\n",
       "    .dataframe thead th {\n",
       "        text-align: left;\n",
       "    }\n",
       "\n",
       "    .dataframe tbody tr th {\n",
       "        vertical-align: top;\n",
       "    }\n",
       "</style>\n",
       "<table border=\"1\" class=\"dataframe\">\n",
       "  <thead>\n",
       "    <tr style=\"text-align: right;\">\n",
       "      <th></th>\n",
       "      <th>0</th>\n",
       "    </tr>\n",
       "  </thead>\n",
       "  <tbody>\n",
       "    <tr>\n",
       "      <th>0</th>\n",
       "      <td>0.097012</td>\n",
       "    </tr>\n",
       "    <tr>\n",
       "      <th>1</th>\n",
       "      <td>0.094334</td>\n",
       "    </tr>\n",
       "    <tr>\n",
       "      <th>2</th>\n",
       "      <td>0.091562</td>\n",
       "    </tr>\n",
       "    <tr>\n",
       "      <th>3</th>\n",
       "      <td>0.079842</td>\n",
       "    </tr>\n",
       "    <tr>\n",
       "      <th>4</th>\n",
       "      <td>0.064328</td>\n",
       "    </tr>\n",
       "  </tbody>\n",
       "</table>\n",
       "</div>"
      ],
      "text/plain": [
       "          0\n",
       "0  0.097012\n",
       "1  0.094334\n",
       "2  0.091562\n",
       "3  0.079842\n",
       "4  0.064328"
      ]
     },
     "execution_count": 17,
     "metadata": {},
     "output_type": "execute_result"
    }
   ],
   "source": [
    "pd.DataFrame(y_train).head()"
   ]
  },
  {
   "cell_type": "code",
   "execution_count": 19,
   "metadata": {},
   "outputs": [],
   "source": [
    "#reshaping\n",
    "x_train = np.reshape(x_train,(1257, 1, 1))"
   ]
  },
  {
   "cell_type": "code",
   "execution_count": 23,
   "metadata": {},
   "outputs": [
    {
     "data": {
      "text/plain": [
       "array([[[ 0.08581368]],\n",
       "\n",
       "       [[ 0.09701243]],\n",
       "\n",
       "       [[ 0.09433366]],\n",
       "\n",
       "       ..., \n",
       "       [[ 0.95163331]],\n",
       "\n",
       "       [[ 0.95725128]],\n",
       "\n",
       "       [[ 0.93796041]]])"
      ]
     },
     "execution_count": 23,
     "metadata": {},
     "output_type": "execute_result"
    }
   ],
   "source": [
    "x_train"
   ]
  },
  {
   "cell_type": "markdown",
   "metadata": {},
   "source": [
    "# building the RNN"
   ]
  },
  {
   "cell_type": "code",
   "execution_count": 24,
   "metadata": {},
   "outputs": [],
   "source": [
    "# importing the keras libraries and packages\n",
    "from keras.models import Sequential\n",
    "from keras.layers import Dense\n",
    "from keras.layers import LSTM\n"
   ]
  },
  {
   "cell_type": "code",
   "execution_count": 25,
   "metadata": {},
   "outputs": [],
   "source": [
    "# initializing the RNN\n",
    "# regression model brcoz it is continous outcome\n",
    "regressor = Sequential()"
   ]
  },
  {
   "cell_type": "code",
   "execution_count": 27,
   "metadata": {},
   "outputs": [],
   "source": [
    "# Adding the input layer and the LSTM layer\n",
    "regressor.add(LSTM(units = 4 , activation = 'sigmoid' , input_shape = (None , 1)))\n"
   ]
  },
  {
   "cell_type": "code",
   "execution_count": 28,
   "metadata": {},
   "outputs": [],
   "source": [
    "# Adding the output layer\n",
    "regressor.add(Dense(units = 1 ))"
   ]
  },
  {
   "cell_type": "code",
   "execution_count": 30,
   "metadata": {},
   "outputs": [],
   "source": [
    "# Compiling the RNN\n",
    "regressor.compile(optimizer = 'adam' , loss = 'mean_squared_error')"
   ]
  },
  {
   "cell_type": "code",
   "execution_count": 31,
   "metadata": {},
   "outputs": [
    {
     "name": "stdout",
     "output_type": "stream",
     "text": [
      "Epoch 1/200\n",
      "1257/1257 [==============================] - 4s 3ms/step - loss: 0.5660\n",
      "Epoch 2/200\n",
      "1257/1257 [==============================] - 0s 95us/step - loss: 0.4325\n",
      "Epoch 3/200\n",
      "1257/1257 [==============================] - 0s 102us/step - loss: 0.3276\n",
      "Epoch 4/200\n",
      "1257/1257 [==============================] - 0s 107us/step - loss: 0.2468\n",
      "Epoch 5/200\n",
      "1257/1257 [==============================] - 0s 101us/step - loss: 0.1875\n",
      "Epoch 6/200\n",
      "1257/1257 [==============================] - 0s 101us/step - loss: 0.1441\n",
      "Epoch 7/200\n",
      "1257/1257 [==============================] - 0s 102us/step - loss: 0.1136\n",
      "Epoch 8/200\n",
      "1257/1257 [==============================] - 0s 109us/step - loss: 0.0931\n",
      "Epoch 9/200\n",
      "1257/1257 [==============================] - 0s 107us/step - loss: 0.0798\n",
      "Epoch 10/200\n",
      "1257/1257 [==============================] - 0s 111us/step - loss: 0.0715\n",
      "Epoch 11/200\n",
      "1257/1257 [==============================] - 0s 114us/step - loss: 0.0664\n",
      "Epoch 12/200\n",
      "1257/1257 [==============================] - 0s 122us/step - loss: 0.0633\n",
      "Epoch 13/200\n",
      "1257/1257 [==============================] - 0s 115us/step - loss: 0.0613\n",
      "Epoch 14/200\n",
      "1257/1257 [==============================] - 0s 140us/step - loss: 0.0600\n",
      "Epoch 15/200\n",
      "1257/1257 [==============================] - 0s 110us/step - loss: 0.0589\n",
      "Epoch 16/200\n",
      "1257/1257 [==============================] - 0s 123us/step - loss: 0.0580 0s - loss: 0.05\n",
      "Epoch 17/200\n",
      "1257/1257 [==============================] - 0s 130us/step - loss: 0.0572\n",
      "Epoch 18/200\n",
      "1257/1257 [==============================] - 0s 134us/step - loss: 0.0563\n",
      "Epoch 19/200\n",
      "1257/1257 [==============================] - 0s 109us/step - loss: 0.0555\n",
      "Epoch 20/200\n",
      "1257/1257 [==============================] - 0s 129us/step - loss: 0.0546\n",
      "Epoch 21/200\n",
      "1257/1257 [==============================] - 0s 135us/step - loss: 0.0537\n",
      "Epoch 22/200\n",
      "1257/1257 [==============================] - 0s 125us/step - loss: 0.0528\n",
      "Epoch 23/200\n",
      "1257/1257 [==============================] - 0s 106us/step - loss: 0.0519\n",
      "Epoch 24/200\n",
      "1257/1257 [==============================] - 0s 109us/step - loss: 0.0510\n",
      "Epoch 25/200\n",
      "1257/1257 [==============================] - 0s 133us/step - loss: 0.0500\n",
      "Epoch 26/200\n",
      "1257/1257 [==============================] - 0s 108us/step - loss: 0.0490\n",
      "Epoch 27/200\n",
      "1257/1257 [==============================] - 0s 107us/step - loss: 0.0480\n",
      "Epoch 28/200\n",
      "1257/1257 [==============================] - 0s 108us/step - loss: 0.0469\n",
      "Epoch 29/200\n",
      "1257/1257 [==============================] - 0s 106us/step - loss: 0.0459\n",
      "Epoch 30/200\n",
      "1257/1257 [==============================] - 0s 121us/step - loss: 0.0448\n",
      "Epoch 31/200\n",
      "1257/1257 [==============================] - 0s 121us/step - loss: 0.0437\n",
      "Epoch 32/200\n",
      "1257/1257 [==============================] - 0s 124us/step - loss: 0.0426\n",
      "Epoch 33/200\n",
      "1257/1257 [==============================] - 0s 121us/step - loss: 0.0415\n",
      "Epoch 34/200\n",
      "1257/1257 [==============================] - 0s 120us/step - loss: 0.0403\n",
      "Epoch 35/200\n",
      "1257/1257 [==============================] - 0s 110us/step - loss: 0.0391\n",
      "Epoch 36/200\n",
      "1257/1257 [==============================] - 0s 112us/step - loss: 0.0380\n",
      "Epoch 37/200\n",
      "1257/1257 [==============================] - 0s 145us/step - loss: 0.0368\n",
      "Epoch 38/200\n",
      "1257/1257 [==============================] - 0s 168us/step - loss: 0.0356\n",
      "Epoch 39/200\n",
      "1257/1257 [==============================] - 0s 83us/step - loss: 0.0344\n",
      "Epoch 40/200\n",
      "1257/1257 [==============================] - 0s 111us/step - loss: 0.0332\n",
      "Epoch 41/200\n",
      "1257/1257 [==============================] - 0s 106us/step - loss: 0.0319\n",
      "Epoch 42/200\n",
      "1257/1257 [==============================] - 0s 135us/step - loss: 0.0307\n",
      "Epoch 43/200\n",
      "1257/1257 [==============================] - 0s 127us/step - loss: 0.0295\n",
      "Epoch 44/200\n",
      "1257/1257 [==============================] - 0s 130us/step - loss: 0.0282\n",
      "Epoch 45/200\n",
      "1257/1257 [==============================] - 0s 170us/step - loss: 0.0270\n",
      "Epoch 46/200\n",
      "1257/1257 [==============================] - 0s 154us/step - loss: 0.0258\n",
      "Epoch 47/200\n",
      "1257/1257 [==============================] - 0s 128us/step - loss: 0.0245\n",
      "Epoch 48/200\n",
      "1257/1257 [==============================] - 0s 137us/step - loss: 0.0233\n",
      "Epoch 49/200\n",
      "1257/1257 [==============================] - 0s 122us/step - loss: 0.0221\n",
      "Epoch 50/200\n",
      "1257/1257 [==============================] - 0s 141us/step - loss: 0.0209\n",
      "Epoch 51/200\n",
      "1257/1257 [==============================] - 0s 121us/step - loss: 0.0197\n",
      "Epoch 52/200\n",
      "1257/1257 [==============================] - 0s 142us/step - loss: 0.0186\n",
      "Epoch 53/200\n",
      "1257/1257 [==============================] - 0s 118us/step - loss: 0.0175\n",
      "Epoch 54/200\n",
      "1257/1257 [==============================] - 0s 149us/step - loss: 0.0164\n",
      "Epoch 55/200\n",
      "1257/1257 [==============================] - 0s 138us/step - loss: 0.0153\n",
      "Epoch 56/200\n",
      "1257/1257 [==============================] - 0s 142us/step - loss: 0.0143\n",
      "Epoch 57/200\n",
      "1257/1257 [==============================] - 0s 131us/step - loss: 0.0133\n",
      "Epoch 58/200\n",
      "1257/1257 [==============================] - 0s 133us/step - loss: 0.0123\n",
      "Epoch 59/200\n",
      "1257/1257 [==============================] - 0s 130us/step - loss: 0.0114\n",
      "Epoch 60/200\n",
      "1257/1257 [==============================] - ETA: 0s - loss: 0.010 - 0s 117us/step - loss: 0.0105\n",
      "Epoch 61/200\n",
      "1257/1257 [==============================] - 0s 122us/step - loss: 0.0097\n",
      "Epoch 62/200\n",
      "1257/1257 [==============================] - 0s 122us/step - loss: 0.0089\n",
      "Epoch 63/200\n",
      "1257/1257 [==============================] - 0s 208us/step - loss: 0.0082\n",
      "Epoch 64/200\n",
      "1257/1257 [==============================] - 0s 120us/step - loss: 0.0075\n",
      "Epoch 65/200\n",
      "1257/1257 [==============================] - 0s 144us/step - loss: 0.0068\n",
      "Epoch 66/200\n",
      "1257/1257 [==============================] - 0s 144us/step - loss: 0.0062\n",
      "Epoch 67/200\n",
      "1257/1257 [==============================] - 0s 145us/step - loss: 0.0056\n",
      "Epoch 68/200\n",
      "1257/1257 [==============================] - 0s 115us/step - loss: 0.0051\n",
      "Epoch 69/200\n",
      "1257/1257 [==============================] - 0s 114us/step - loss: 0.0046\n",
      "Epoch 70/200\n",
      "1257/1257 [==============================] - 0s 117us/step - loss: 0.0041\n",
      "Epoch 71/200\n",
      "1257/1257 [==============================] - 0s 116us/step - loss: 0.0037\n",
      "Epoch 72/200\n",
      "1257/1257 [==============================] - 0s 138us/step - loss: 0.0033\n",
      "Epoch 73/200\n",
      "1257/1257 [==============================] - 0s 144us/step - loss: 0.0029\n",
      "Epoch 74/200\n",
      "1257/1257 [==============================] - 0s 124us/step - loss: 0.0026\n",
      "Epoch 75/200\n",
      "1257/1257 [==============================] - 0s 129us/step - loss: 0.0023\n",
      "Epoch 76/200\n",
      "1257/1257 [==============================] - 0s 115us/step - loss: 0.0020\n",
      "Epoch 77/200\n",
      "1257/1257 [==============================] - 0s 114us/step - loss: 0.0018\n",
      "Epoch 78/200\n",
      "1257/1257 [==============================] - 0s 128us/step - loss: 0.0016\n",
      "Epoch 79/200\n",
      "1257/1257 [==============================] - 0s 133us/step - loss: 0.0014\n",
      "Epoch 80/200\n",
      "1257/1257 [==============================] - 0s 256us/step - loss: 0.0012\n",
      "Epoch 81/200\n",
      "1257/1257 [==============================] - 0s 146us/step - loss: 0.0011\n",
      "Epoch 82/200\n",
      "1257/1257 [==============================] - 0s 127us/step - loss: 9.7537e-04\n",
      "Epoch 83/200\n",
      "1257/1257 [==============================] - 0s 128us/step - loss: 8.6523e-04\n",
      "Epoch 84/200\n",
      "1257/1257 [==============================] - 0s 117us/step - loss: 7.7046e-04\n",
      "Epoch 85/200\n",
      "1257/1257 [==============================] - 0s 121us/step - loss: 6.8888e-04\n",
      "Epoch 86/200\n",
      "1257/1257 [==============================] - 0s 125us/step - loss: 6.1959e-04\n",
      "Epoch 87/200\n",
      "1257/1257 [==============================] - 0s 111us/step - loss: 5.6102e-04\n",
      "Epoch 88/200\n",
      "1257/1257 [==============================] - 0s 106us/step - loss: 5.1045e-04\n",
      "Epoch 89/200\n",
      "1257/1257 [==============================] - 0s 114us/step - loss: 4.6859e-04\n",
      "Epoch 90/200\n",
      "1257/1257 [==============================] - 0s 110us/step - loss: 4.3296e-04\n",
      "Epoch 91/200\n",
      "1257/1257 [==============================] - 0s 135us/step - loss: 4.0388e-04\n",
      "Epoch 92/200\n",
      "1257/1257 [==============================] - 0s 108us/step - loss: 3.7967e-04\n",
      "Epoch 93/200\n",
      "1257/1257 [==============================] - 0s 122us/step - loss: 3.5923e-04\n",
      "Epoch 94/200\n"
     ]
    },
    {
     "name": "stdout",
     "output_type": "stream",
     "text": [
      "1257/1257 [==============================] - 0s 107us/step - loss: 3.4296e-04\n",
      "Epoch 95/200\n",
      "1257/1257 [==============================] - 0s 124us/step - loss: 3.2963e-04\n",
      "Epoch 96/200\n",
      "1257/1257 [==============================] - 0s 111us/step - loss: 3.1839e-04\n",
      "Epoch 97/200\n",
      "1257/1257 [==============================] - 0s 107us/step - loss: 3.1052e-04\n",
      "Epoch 98/200\n",
      "1257/1257 [==============================] - 0s 114us/step - loss: 3.0259e-04\n",
      "Epoch 99/200\n",
      "1257/1257 [==============================] - 0s 108us/step - loss: 2.9639e-04\n",
      "Epoch 100/200\n",
      "1257/1257 [==============================] - 0s 109us/step - loss: 2.9177e-04\n",
      "Epoch 101/200\n",
      "1257/1257 [==============================] - 0s 112us/step - loss: 2.8890e-04\n",
      "Epoch 102/200\n",
      "1257/1257 [==============================] - 0s 109us/step - loss: 2.8639e-04\n",
      "Epoch 103/200\n",
      "1257/1257 [==============================] - 0s 111us/step - loss: 2.8340e-04\n",
      "Epoch 104/200\n",
      "1257/1257 [==============================] - 0s 121us/step - loss: 2.8102e-04\n",
      "Epoch 105/200\n",
      "1257/1257 [==============================] - 0s 121us/step - loss: 2.7944e-04\n",
      "Epoch 106/200\n",
      "1257/1257 [==============================] - 0s 118us/step - loss: 2.7897e-04\n",
      "Epoch 107/200\n",
      "1257/1257 [==============================] - 0s 125us/step - loss: 2.7734e-04\n",
      "Epoch 108/200\n",
      "1257/1257 [==============================] - 0s 111us/step - loss: 2.7630e-04\n",
      "Epoch 109/200\n",
      "1257/1257 [==============================] - 0s 127us/step - loss: 2.7551e-04\n",
      "Epoch 110/200\n",
      "1257/1257 [==============================] - 0s 107us/step - loss: 2.7519e-04\n",
      "Epoch 111/200\n",
      "1257/1257 [==============================] - 0s 124us/step - loss: 2.7440e-04\n",
      "Epoch 112/200\n",
      "1257/1257 [==============================] - 0s 136us/step - loss: 2.7379e-04\n",
      "Epoch 113/200\n",
      "1257/1257 [==============================] - 0s 119us/step - loss: 2.7305e-04\n",
      "Epoch 114/200\n",
      "1257/1257 [==============================] - 0s 116us/step - loss: 2.7349e-04\n",
      "Epoch 115/200\n",
      "1257/1257 [==============================] - 0s 108us/step - loss: 2.7200e-04\n",
      "Epoch 116/200\n",
      "1257/1257 [==============================] - 0s 115us/step - loss: 2.7172e-04\n",
      "Epoch 117/200\n",
      "1257/1257 [==============================] - 0s 117us/step - loss: 2.7106e-04\n",
      "Epoch 118/200\n",
      "1257/1257 [==============================] - 0s 125us/step - loss: 2.7019e-04\n",
      "Epoch 119/200\n",
      "1257/1257 [==============================] - 0s 113us/step - loss: 2.6972e-04\n",
      "Epoch 120/200\n",
      "1257/1257 [==============================] - 0s 117us/step - loss: 2.7002e-04\n",
      "Epoch 121/200\n",
      "1257/1257 [==============================] - 0s 112us/step - loss: 2.6899e-04\n",
      "Epoch 122/200\n",
      "1257/1257 [==============================] - 0s 114us/step - loss: 2.6891e-04\n",
      "Epoch 123/200\n",
      "1257/1257 [==============================] - 0s 117us/step - loss: 2.6847e-04\n",
      "Epoch 124/200\n",
      "1257/1257 [==============================] - 0s 115us/step - loss: 2.6754e-04\n",
      "Epoch 125/200\n",
      "1257/1257 [==============================] - 0s 121us/step - loss: 2.6696e-04\n",
      "Epoch 126/200\n",
      "1257/1257 [==============================] - 0s 115us/step - loss: 2.6761e-04\n",
      "Epoch 127/200\n",
      "1257/1257 [==============================] - 0s 110us/step - loss: 2.6631e-04\n",
      "Epoch 128/200\n",
      "1257/1257 [==============================] - 0s 108us/step - loss: 2.6550e-04\n",
      "Epoch 129/200\n",
      "1257/1257 [==============================] - 0s 106us/step - loss: 2.6546e-04\n",
      "Epoch 130/200\n",
      "1257/1257 [==============================] - 0s 119us/step - loss: 2.6532e-04\n",
      "Epoch 131/200\n",
      "1257/1257 [==============================] - 0s 120us/step - loss: 2.6566e-04\n",
      "Epoch 132/200\n",
      "1257/1257 [==============================] - 0s 128us/step - loss: 2.6677e-04\n",
      "Epoch 133/200\n",
      "1257/1257 [==============================] - 0s 111us/step - loss: 2.6419e-04\n",
      "Epoch 134/200\n",
      "1257/1257 [==============================] - 0s 133us/step - loss: 2.6392e-04 0s - loss: 2.2982e-\n",
      "Epoch 135/200\n",
      "1257/1257 [==============================] - 0s 206us/step - loss: 2.6325e-04\n",
      "Epoch 136/200\n",
      "1257/1257 [==============================] - 0s 121us/step - loss: 2.6297e-04\n",
      "Epoch 137/200\n",
      "1257/1257 [==============================] - 0s 135us/step - loss: 2.6264e-04\n",
      "Epoch 138/200\n",
      "1257/1257 [==============================] - 0s 127us/step - loss: 2.6205e-04\n",
      "Epoch 139/200\n",
      "1257/1257 [==============================] - 0s 142us/step - loss: 2.6371e-04\n",
      "Epoch 140/200\n",
      "1257/1257 [==============================] - 0s 124us/step - loss: 2.6150e-04\n",
      "Epoch 141/200\n",
      "1257/1257 [==============================] - 0s 122us/step - loss: 2.6271e-04\n",
      "Epoch 142/200\n",
      "1257/1257 [==============================] - 0s 121us/step - loss: 2.6117e-04\n",
      "Epoch 143/200\n",
      "1257/1257 [==============================] - 0s 123us/step - loss: 2.6134e-04\n",
      "Epoch 144/200\n",
      "1257/1257 [==============================] - 0s 140us/step - loss: 2.6025e-04\n",
      "Epoch 145/200\n",
      "1257/1257 [==============================] - 0s 123us/step - loss: 2.6070e-04\n",
      "Epoch 146/200\n",
      "1257/1257 [==============================] - 0s 151us/step - loss: 2.6000e-04\n",
      "Epoch 147/200\n",
      "1257/1257 [==============================] - 0s 149us/step - loss: 2.5936e-04\n",
      "Epoch 148/200\n",
      "1257/1257 [==============================] - 0s 136us/step - loss: 2.5964e-04\n",
      "Epoch 149/200\n",
      "1257/1257 [==============================] - 0s 116us/step - loss: 2.5925e-04\n",
      "Epoch 150/200\n",
      "1257/1257 [==============================] - 0s 128us/step - loss: 2.5883e-04\n",
      "Epoch 151/200\n",
      "1257/1257 [==============================] - 0s 134us/step - loss: 2.5765e-04\n",
      "Epoch 152/200\n",
      "1257/1257 [==============================] - 0s 120us/step - loss: 2.5809e-04\n",
      "Epoch 153/200\n",
      "1257/1257 [==============================] - 0s 124us/step - loss: 2.6061e-04\n",
      "Epoch 154/200\n",
      "1257/1257 [==============================] - 0s 136us/step - loss: 2.5984e-04\n",
      "Epoch 155/200\n",
      "1257/1257 [==============================] - 0s 148us/step - loss: 2.5749e-04\n",
      "Epoch 156/200\n",
      "1257/1257 [==============================] - 0s 133us/step - loss: 2.5847e-04\n",
      "Epoch 157/200\n",
      "1257/1257 [==============================] - 0s 118us/step - loss: 2.5652e-04\n",
      "Epoch 158/200\n",
      "1257/1257 [==============================] - 0s 117us/step - loss: 2.5762e-04\n",
      "Epoch 159/200\n",
      "1257/1257 [==============================] - 0s 115us/step - loss: 2.5654e-04\n",
      "Epoch 160/200\n",
      "1257/1257 [==============================] - 0s 120us/step - loss: 2.5740e-04\n",
      "Epoch 161/200\n",
      "1257/1257 [==============================] - 0s 115us/step - loss: 2.5593e-04\n",
      "Epoch 162/200\n",
      "1257/1257 [==============================] - 0s 123us/step - loss: 2.5557e-04\n",
      "Epoch 163/200\n",
      "1257/1257 [==============================] - 0s 117us/step - loss: 2.5564e-04\n",
      "Epoch 164/200\n",
      "1257/1257 [==============================] - 0s 122us/step - loss: 2.5685e-04\n",
      "Epoch 165/200\n",
      "1257/1257 [==============================] - 0s 107us/step - loss: 2.5512e-04\n",
      "Epoch 166/200\n",
      "1257/1257 [==============================] - 0s 137us/step - loss: 2.5882e-04\n",
      "Epoch 167/200\n",
      "1257/1257 [==============================] - 0s 121us/step - loss: 2.5521e-04\n",
      "Epoch 168/200\n",
      "1257/1257 [==============================] - 0s 129us/step - loss: 2.5636e-04\n",
      "Epoch 169/200\n",
      "1257/1257 [==============================] - 0s 109us/step - loss: 2.5509e-04\n",
      "Epoch 170/200\n",
      "1257/1257 [==============================] - 0s 129us/step - loss: 2.5396e-04\n",
      "Epoch 171/200\n",
      "1257/1257 [==============================] - 0s 137us/step - loss: 2.5452e-04\n",
      "Epoch 172/200\n",
      "1257/1257 [==============================] - 0s 117us/step - loss: 2.5382e-04\n",
      "Epoch 173/200\n",
      "1257/1257 [==============================] - 0s 123us/step - loss: 2.5324e-04\n",
      "Epoch 174/200\n",
      "1257/1257 [==============================] - 0s 121us/step - loss: 2.5494e-04 0s - loss: 2.5946e-0\n",
      "Epoch 175/200\n",
      "1257/1257 [==============================] - 0s 121us/step - loss: 2.5300e-04\n",
      "Epoch 176/200\n",
      "1257/1257 [==============================] - 0s 114us/step - loss: 2.5312e-04\n",
      "Epoch 177/200\n",
      "1257/1257 [==============================] - 0s 117us/step - loss: 2.5383e-04\n",
      "Epoch 178/200\n",
      "1257/1257 [==============================] - 0s 125us/step - loss: 2.5442e-04\n",
      "Epoch 179/200\n",
      "1257/1257 [==============================] - 0s 125us/step - loss: 2.5413e-04\n",
      "Epoch 180/200\n",
      "1257/1257 [==============================] - 0s 122us/step - loss: 2.5371e-04\n",
      "Epoch 181/200\n",
      "1257/1257 [==============================] - 0s 129us/step - loss: 2.5461e-04\n",
      "Epoch 182/200\n"
     ]
    },
    {
     "name": "stdout",
     "output_type": "stream",
     "text": [
      "1257/1257 [==============================] - 0s 121us/step - loss: 2.5354e-04\n",
      "Epoch 183/200\n",
      "1257/1257 [==============================] - 0s 128us/step - loss: 2.5380e-04\n",
      "Epoch 184/200\n",
      "1257/1257 [==============================] - 0s 152us/step - loss: 2.5542e-04\n",
      "Epoch 185/200\n",
      "1257/1257 [==============================] - 0s 130us/step - loss: 2.5165e-04\n",
      "Epoch 186/200\n",
      "1257/1257 [==============================] - 0s 119us/step - loss: 2.5274e-04\n",
      "Epoch 187/200\n",
      "1257/1257 [==============================] - 0s 122us/step - loss: 2.5249e-04\n",
      "Epoch 188/200\n",
      "1257/1257 [==============================] - 0s 117us/step - loss: 2.5509e-04\n",
      "Epoch 189/200\n",
      "1257/1257 [==============================] - 0s 114us/step - loss: 2.5180e-04\n",
      "Epoch 190/200\n",
      "1257/1257 [==============================] - 0s 119us/step - loss: 2.5538e-04\n",
      "Epoch 191/200\n",
      "1257/1257 [==============================] - 0s 115us/step - loss: 2.5442e-04\n",
      "Epoch 192/200\n",
      "1257/1257 [==============================] - 0s 120us/step - loss: 2.5194e-04\n",
      "Epoch 193/200\n",
      "1257/1257 [==============================] - 0s 129us/step - loss: 2.5210e-04\n",
      "Epoch 194/200\n",
      "1257/1257 [==============================] - 0s 143us/step - loss: 2.5249e-04\n",
      "Epoch 195/200\n",
      "1257/1257 [==============================] - 0s 157us/step - loss: 2.5221e-04\n",
      "Epoch 196/200\n",
      "1257/1257 [==============================] - 0s 133us/step - loss: 2.5394e-04\n",
      "Epoch 197/200\n",
      "1257/1257 [==============================] - 0s 133us/step - loss: 2.5089e-04\n",
      "Epoch 198/200\n",
      "1257/1257 [==============================] - 0s 123us/step - loss: 2.5198e-04\n",
      "Epoch 199/200\n",
      "1257/1257 [==============================] - 0s 131us/step - loss: 2.5581e-04\n",
      "Epoch 200/200\n",
      "1257/1257 [==============================] - 0s 122us/step - loss: 2.5389e-04\n"
     ]
    },
    {
     "data": {
      "text/plain": [
       "<keras.callbacks.History at 0x2b34e84e7f0>"
      ]
     },
     "execution_count": 31,
     "metadata": {},
     "output_type": "execute_result"
    }
   ],
   "source": [
    "# Fitting the RNN to the Training set\n",
    "regressor.fit(x_train , y_train , batch_size=32 , epochs= 200)"
   ]
  },
  {
   "cell_type": "markdown",
   "metadata": {},
   "source": [
    "# Making the predictions and visualising the results"
   ]
  },
  {
   "cell_type": "code",
   "execution_count": 32,
   "metadata": {},
   "outputs": [],
   "source": [
    "# Creating the real stock price of 2017\n",
    "test_set = pd.read_csv('Google_Stock_Price_Test.csv')\n",
    "real_stock_price = test_set.iloc[:,1:2].values"
   ]
  },
  {
   "cell_type": "code",
   "execution_count": 33,
   "metadata": {},
   "outputs": [],
   "source": [
    "# Getting the predicted stock price of 2017\n",
    "inputs = real_stock_price\n",
    "inputs = sc.transform(inputs)"
   ]
  },
  {
   "cell_type": "code",
   "execution_count": 34,
   "metadata": {},
   "outputs": [],
   "source": [
    "# converting 2D inputs into 3D\n",
    "inputs =  np.reshape(inputs,(20, 1, 1))"
   ]
  },
  {
   "cell_type": "code",
   "execution_count": 35,
   "metadata": {},
   "outputs": [
    {
     "data": {
      "text/plain": [
       "(20, 1, 1)"
      ]
     },
     "execution_count": 35,
     "metadata": {},
     "output_type": "execute_result"
    }
   ],
   "source": [
    "inputs.shape"
   ]
  },
  {
   "cell_type": "code",
   "execution_count": 36,
   "metadata": {},
   "outputs": [],
   "source": [
    "# predictions\n",
    "predicted_stock_price = regressor.predict(inputs)"
   ]
  },
  {
   "cell_type": "code",
   "execution_count": 37,
   "metadata": {},
   "outputs": [
    {
     "data": {
      "text/plain": [
       "array([[ 0.92898196],\n",
       "       [ 0.94514978],\n",
       "       [ 0.94129312],\n",
       "       [ 0.95680916],\n",
       "       [ 0.97096694],\n",
       "       [ 0.97250688],\n",
       "       [ 0.96948904],\n",
       "       [ 0.9717477 ],\n",
       "       [ 0.97210634],\n",
       "       [ 0.97168446],\n",
       "       [ 0.97034431],\n",
       "       [ 0.96961594],\n",
       "       [ 0.97150499],\n",
       "       [ 0.97186369],\n",
       "       [ 0.98768246],\n",
       "       [ 0.99533677],\n",
       "       [ 1.00387061],\n",
       "       [ 1.00064421],\n",
       "       [ 0.97966605],\n",
       "       [ 0.95951033]], dtype=float32)"
      ]
     },
     "execution_count": 37,
     "metadata": {},
     "output_type": "execute_result"
    }
   ],
   "source": [
    "predicted_stock_price"
   ]
  },
  {
   "cell_type": "code",
   "execution_count": 38,
   "metadata": {},
   "outputs": [],
   "source": [
    "predicted_stock_price = sc.inverse_transform(predicted_stock_price)"
   ]
  },
  {
   "cell_type": "code",
   "execution_count": 39,
   "metadata": {},
   "outputs": [
    {
     "data": {
      "text/plain": [
       "array([[ 778.50354004],\n",
       "       [ 787.19470215],\n",
       "       [ 785.121521  ],\n",
       "       [ 793.46228027],\n",
       "       [ 801.07293701],\n",
       "       [ 801.90075684],\n",
       "       [ 800.27850342],\n",
       "       [ 801.49267578],\n",
       "       [ 801.68548584],\n",
       "       [ 801.4586792 ],\n",
       "       [ 800.73828125],\n",
       "       [ 800.34674072],\n",
       "       [ 801.36224365],\n",
       "       [ 801.55505371],\n",
       "       [ 810.05853271],\n",
       "       [ 814.17321777],\n",
       "       [ 818.76068115],\n",
       "       [ 817.02624512],\n",
       "       [ 805.74926758],\n",
       "       [ 794.91436768]], dtype=float32)"
      ]
     },
     "execution_count": 39,
     "metadata": {},
     "output_type": "execute_result"
    }
   ],
   "source": [
    "predicted_stock_price"
   ]
  },
  {
   "cell_type": "code",
   "execution_count": 40,
   "metadata": {},
   "outputs": [
    {
     "data": {
      "image/png": "[encoded data removed]",
      "text/plain": [
       "<matplotlib.figure.Figure at 0x2b34e897f98>"
      ]
     },
     "metadata": {},
     "output_type": "display_data"
    }
   ],
   "source": [
    "#Visualising the results\n",
    "plt.plot(real_stock_price ,color = 'red', label = 'real Google stock price')\n",
    "plt.plot(predicted_stock_price, color = 'blue', label = 'predicted Google stock price')\n",
    "plt.title('Google stock price prediction')\n",
    "plt.xlabel('Time')\n",
    "plt.ylabel('Google stock price')\n",
    "plt.legend()\n",
    "plt.show()"
   ]
  },
  {
   "cell_type": "code",
   "execution_count": null,
   "metadata": {},
   "outputs": [],
   "source": []
  }
 ],
 "metadata": {
  "kernelspec": {
   "display_name": "Python 3",
   "language": "python",
   "name": "python3"
  },
  "language_info": {
   "codemirror_mode": {
    "name": "ipython",
    "version": 3
   },
   "file_extension": ".py",
   "mimetype": "text/x-python",
   "name": "python",
   "nbconvert_exporter": "python",
   "pygments_lexer": "ipython3",
   "version": "3.6.3"
  }
 },
 "nbformat": 4,
 "nbformat_minor": 2
}
